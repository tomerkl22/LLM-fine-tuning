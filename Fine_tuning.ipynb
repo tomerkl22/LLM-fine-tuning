{
 "cells": [
  {
   "cell_type": "markdown",
   "id": "e19926c2",
   "metadata": {},
   "source": [
    "In this notebook we'll walk through the process of fine-tuning one of OpenAI's advanced language models on the [MTSamples](https://mtsamples.com/) dataset. "
   ]
  },
  {
   "cell_type": "markdown",
   "id": "516fbfd9",
   "metadata": {},
   "source": [
    "## Data pre-processing"
   ]
  },
  {
   "cell_type": "code",
   "execution_count": 1,
   "id": "ac22eebb",
   "metadata": {},
   "outputs": [],
   "source": [
    "import pandas as pd\n",
    "medical_reports = pd.read_csv(\"reports_copy.csv\")"
   ]
  },
  {
   "cell_type": "code",
   "execution_count": 2,
   "id": "c7dae798",
   "metadata": {},
   "outputs": [
    {
     "data": {
      "text/html": [
       "<div>\n",
       "<style scoped>\n",
       "    .dataframe tbody tr th:only-of-type {\n",
       "        vertical-align: middle;\n",
       "    }\n",
       "\n",
       "    .dataframe tbody tr th {\n",
       "        vertical-align: top;\n",
       "    }\n",
       "\n",
       "    .dataframe thead th {\n",
       "        text-align: right;\n",
       "    }\n",
       "</style>\n",
       "<table border=\"1\" class=\"dataframe\">\n",
       "  <thead>\n",
       "    <tr style=\"text-align: right;\">\n",
       "      <th></th>\n",
       "      <th>medical_specialty</th>\n",
       "      <th>report</th>\n",
       "    </tr>\n",
       "  </thead>\n",
       "  <tbody>\n",
       "    <tr>\n",
       "      <th>0</th>\n",
       "      <td>Cardiovascular / Pulmonary</td>\n",
       "      <td>2-D M-MODE: , ,1.  Left atrial enlargement wit...</td>\n",
       "    </tr>\n",
       "    <tr>\n",
       "      <th>1</th>\n",
       "      <td>Cardiovascular / Pulmonary</td>\n",
       "      <td>1.  The left ventricular cavity size and wall ...</td>\n",
       "    </tr>\n",
       "    <tr>\n",
       "      <th>2</th>\n",
       "      <td>Cardiovascular / Pulmonary</td>\n",
       "      <td>2-D ECHOCARDIOGRAM,Multiple views of the heart...</td>\n",
       "    </tr>\n",
       "    <tr>\n",
       "      <th>3</th>\n",
       "      <td>Cardiovascular / Pulmonary</td>\n",
       "      <td>DESCRIPTION:,1.  Normal cardiac chambers size....</td>\n",
       "    </tr>\n",
       "    <tr>\n",
       "      <th>4</th>\n",
       "      <td>Cardiovascular / Pulmonary</td>\n",
       "      <td>2-D STUDY,1. Mild aortic stenosis, widely calc...</td>\n",
       "    </tr>\n",
       "  </tbody>\n",
       "</table>\n",
       "</div>"
      ],
      "text/plain": [
       "            medical_specialty  \\\n",
       "0  Cardiovascular / Pulmonary   \n",
       "1  Cardiovascular / Pulmonary   \n",
       "2  Cardiovascular / Pulmonary   \n",
       "3  Cardiovascular / Pulmonary   \n",
       "4  Cardiovascular / Pulmonary   \n",
       "\n",
       "                                              report  \n",
       "0  2-D M-MODE: , ,1.  Left atrial enlargement wit...  \n",
       "1  1.  The left ventricular cavity size and wall ...  \n",
       "2  2-D ECHOCARDIOGRAM,Multiple views of the heart...  \n",
       "3  DESCRIPTION:,1.  Normal cardiac chambers size....  \n",
       "4  2-D STUDY,1. Mild aortic stenosis, widely calc...  "
      ]
     },
     "execution_count": 2,
     "metadata": {},
     "output_type": "execute_result"
    }
   ],
   "source": [
    "medical_reports.head()"
   ]
  },
  {
   "cell_type": "code",
   "execution_count": 3,
   "id": "3620ab9f",
   "metadata": {},
   "outputs": [
    {
     "name": "stdout",
     "output_type": "stream",
     "text": [
      "<class 'pandas.core.frame.DataFrame'>\n",
      "RangeIndex: 2179 entries, 0 to 2178\n",
      "Data columns (total 2 columns):\n",
      " #   Column             Non-Null Count  Dtype \n",
      "---  ------             --------------  ----- \n",
      " 0   medical_specialty  2179 non-null   object\n",
      " 1   report             2179 non-null   object\n",
      "dtypes: object(2)\n",
      "memory usage: 34.2+ KB\n"
     ]
    }
   ],
   "source": [
    "medical_reports.info()"
   ]
  },
  {
   "cell_type": "code",
   "execution_count": 4,
   "id": "f39493cd",
   "metadata": {},
   "outputs": [
    {
     "name": "stdout",
     "output_type": "stream",
     "text": [
      "<class 'pandas.core.frame.DataFrame'>\n",
      "RangeIndex: 2179 entries, 0 to 2178\n",
      "Data columns (total 2 columns):\n",
      " #   Column             Non-Null Count  Dtype \n",
      "---  ------             --------------  ----- \n",
      " 0   medical_specialty  2179 non-null   object\n",
      " 1   report             2179 non-null   object\n",
      "dtypes: object(2)\n",
      "memory usage: 34.2+ KB\n"
     ]
    }
   ],
   "source": [
    "# Dropping rows where 'report' is missing\n",
    "medical_reports.dropna(subset=['report'], inplace=True)\n",
    "medical_reports.info()"
   ]
  },
  {
   "cell_type": "code",
   "execution_count": 5,
   "id": "7f04dd3f",
   "metadata": {},
   "outputs": [],
   "source": [
    "# Sample 110 items from each class\n",
    "grouped_data = medical_reports.groupby(\"medical_specialty\").sample(110, random_state=42)\n",
    "\n",
    "# SAMPLE 10 --> 5 VAL, 5 TEST\n",
    "val_test_data = grouped_data.groupby(\"medical_specialty\").sample(10, random_state=42)\n",
    "val = val_test_data.groupby(\"medical_specialty\").head(5) # Take the first 5 of each class\n",
    "test = val_test_data.groupby(\"medical_specialty\").tail(5) # Take the last 5 of each class"
   ]
  },
  {
   "cell_type": "code",
   "execution_count": 6,
   "id": "98c7dc0e",
   "metadata": {},
   "outputs": [],
   "source": [
    "train =  grouped_data[~grouped_data.index.isin(val_test_data.index)]"
   ]
  },
  {
   "cell_type": "markdown",
   "id": "ae89c27b",
   "metadata": {},
   "source": [
    "## Token cost "
   ]
  },
  {
   "cell_type": "code",
   "execution_count": 7,
   "id": "2a4e9f81",
   "metadata": {},
   "outputs": [],
   "source": [
    "import tiktoken"
   ]
  },
  {
   "cell_type": "code",
   "execution_count": 8,
   "id": "aefe0bf8",
   "metadata": {},
   "outputs": [],
   "source": [
    "def num_token_from_string(string):\n",
    "    encoding = tiktoken.get_encoding('cl100k_base')\n",
    "    num_tokens = len(encoding.encode(string))\n",
    "    return num_tokens"
   ]
  },
  {
   "cell_type": "code",
   "execution_count": 9,
   "id": "6232c388",
   "metadata": {},
   "outputs": [],
   "source": [
    "report_lengths = train['report'].apply(num_token_from_string)"
   ]
  },
  {
   "cell_type": "code",
   "execution_count": 10,
   "id": "e5bc0939",
   "metadata": {},
   "outputs": [
    {
     "data": {
      "text/plain": [
       "count     500.000000\n",
       "mean      674.788000\n",
       "std       427.809075\n",
       "min        14.000000\n",
       "25%       358.000000\n",
       "50%       593.500000\n",
       "75%       904.000000\n",
       "max      3701.000000\n",
       "Name: report, dtype: float64"
      ]
     },
     "execution_count": 10,
     "metadata": {},
     "output_type": "execute_result"
    }
   ],
   "source": [
    "report_lengths.describe() # checkout the MAX tokens"
   ]
  },
  {
   "cell_type": "code",
   "execution_count": 11,
   "id": "58c6aea1",
   "metadata": {},
   "outputs": [
    {
     "name": "stdout",
     "output_type": "stream",
     "text": [
      "2.699152\n"
     ]
    }
   ],
   "source": [
    "amount_tokens = report_lengths.sum()\n",
    "price_model = 8 # $8 for 1M tokens\n",
    "price_per_epoch = amount_tokens * price_model / 1000000\n",
    "print (price_per_epoch)"
   ]
  },
  {
   "cell_type": "markdown",
   "id": "06248b97",
   "metadata": {},
   "source": [
    "## Data formating"
   ]
  },
  {
   "cell_type": "code",
   "execution_count": 12,
   "id": "5b451ebd",
   "metadata": {},
   "outputs": [
    {
     "data": {
      "text/plain": [
       "array(['Cardiovascular / Pulmonary', 'Gastroenterology', 'Neurology',\n",
       "       'Radiology', 'Surgery'], dtype=object)"
      ]
     },
     "execution_count": 12,
     "metadata": {},
     "output_type": "execute_result"
    }
   ],
   "source": [
    "train['medical_specialty'].unique()"
   ]
  },
  {
   "cell_type": "code",
   "execution_count": null,
   "id": "017841f0",
   "metadata": {},
   "outputs": [],
   "source": [
    "# SYSTEM PROMPT -- role of the system\n",
    "# USER --> report\n",
    "# ASSISTANT --> mdedical_specialty"
   ]
  },
  {
   "cell_type": "code",
   "execution_count": 18,
   "id": "5a744c1c",
   "metadata": {},
   "outputs": [],
   "source": [
    "system_prompt = \"Given the medical description report, classify it into one of these categories: \" + \\\n",
    "                 \"[Cardiovascular / Pulmonary, Gastroenterology, Neurology, Radiology, Surgery]\"\n",
    "\n",
    "\n",
    "def df_to_format(df):\n",
    "    formatted_data = []\n",
    "    \n",
    "    for index, row in df.iterrows():\n",
    "        entry = {\"messages\": [{'role':'system', 'content':system_prompt},\n",
    "                              {'role':'user', 'content':row['report']},\n",
    "                              {'role':'assistant', 'content':row['medical_specialty']}]}\n",
    "        formatted_data.append(entry)\n",
    "    return formatted_data"
   ]
  },
  {
   "cell_type": "code",
   "execution_count": 20,
   "id": "8fddbdf3",
   "metadata": {},
   "outputs": [],
   "source": [
    "data = df_to_format(train)"
   ]
  },
  {
   "cell_type": "code",
   "execution_count": 22,
   "id": "81d92927",
   "metadata": {},
   "outputs": [],
   "source": [
    "import json "
   ]
  },
  {
   "cell_type": "code",
   "execution_count": 23,
   "id": "d765b5da",
   "metadata": {},
   "outputs": [],
   "source": [
    "with open('fine_tuning_data.jsonl', 'w') as f:\n",
    "    for entry in data:\n",
    "        f.write(json.dumps(entry))\n",
    "        f.write(\"\\n\")"
   ]
  },
  {
   "cell_type": "code",
   "execution_count": 24,
   "id": "5af2538c",
   "metadata": {},
   "outputs": [],
   "source": [
    "val_data = df_to_format(val)"
   ]
  },
  {
   "cell_type": "code",
   "execution_count": 25,
   "id": "be410e13",
   "metadata": {},
   "outputs": [],
   "source": [
    "with open('fine_tuning_data_val.jsonl', 'w') as f:\n",
    "    for entry in val_data:\n",
    "        f.write(json.dumps(entry))\n",
    "        f.write(\"\\n\")"
   ]
  },
  {
   "cell_type": "markdown",
   "id": "af9f14a1",
   "metadata": {},
   "source": [
    "## Training"
   ]
  },
  {
   "cell_type": "code",
   "execution_count": 26,
   "id": "3368328c",
   "metadata": {},
   "outputs": [],
   "source": [
    "import os"
   ]
  },
  {
   "cell_type": "code",
   "execution_count": 28,
   "id": "def6ef19",
   "metadata": {},
   "outputs": [],
   "source": [
    "import openai\n",
    "from openai import OpenAI"
   ]
  },
  {
   "cell_type": "code",
   "execution_count": 29,
   "id": "defe1ddd",
   "metadata": {},
   "outputs": [],
   "source": [
    "openai = client = OpenAI(api_key='')"
   ]
  },
  {
   "cell_type": "code",
   "execution_count": 30,
   "id": "c55b48e3",
   "metadata": {},
   "outputs": [],
   "source": [
    "# Upload the file to OpenAI\n",
    "file_upload_response = client.files.create(file=open('fine_tuning_data.jsonl', 'rb'),\n",
    "                                          purpose='fine-tune')"
   ]
  },
  {
   "cell_type": "code",
   "execution_count": 32,
   "id": "554eda5e",
   "metadata": {},
   "outputs": [],
   "source": [
    "file_upload_response_val = client.files.create(file=open('fine_tuning_data_val.jsonl', 'rb'),\n",
    "                                          purpose='fine-tune')"
   ]
  },
  {
   "cell_type": "code",
   "execution_count": 34,
   "id": "c57a193b",
   "metadata": {},
   "outputs": [],
   "source": [
    "fine_tuning_response = client.fine_tuning.jobs.create(training_file=file_upload_response.id,\n",
    "                                                      model='gpt-3.5-turbo',\n",
    "                                                      hyperparameters={'n_epochs':1},\n",
    "                                                     validation_file=file_upload_response_val.id\n",
    "                                                     )"
   ]
  },
  {
   "cell_type": "markdown",
   "id": "23b62775",
   "metadata": {},
   "source": [
    "## Visualizing Loss"
   ]
  },
  {
   "cell_type": "code",
   "execution_count": 57,
   "id": "c2ba352c",
   "metadata": {},
   "outputs": [],
   "source": [
    "train_event = client.fine_tuning.jobs.list_events(fine_tuning_job_id='ftjob-93vXX1Hk2WOfU6Y8gh8XoIpu',\n",
    "                                                 limit = 500)\n",
    "\n",
    "train_loss = []\n",
    "val_loss = []\n",
    "\n",
    "for item in train_event.data:\n",
    "    train_data = item.data\n",
    "    if train_data and 'train_loss' and 'valid_loss' in train_data:\n",
    "        train_loss.insert(0, train_data['train_loss'])\n",
    "        val_loss.insert(0, train_data['valid_loss'])"
   ]
  },
  {
   "cell_type": "code",
   "execution_count": 58,
   "id": "2581b13e",
   "metadata": {},
   "outputs": [
    {
     "data": {
      "text/plain": [
       "[<matplotlib.lines.Line2D at 0x20d2d219750>]"
      ]
     },
     "execution_count": 58,
     "metadata": {},
     "output_type": "execute_result"
    },
    {
     "data": {
      "image/png": "[encoded data removed]",
      "text/plain": [
       "<Figure size 640x480 with 1 Axes>"
      ]
     },
     "metadata": {},
     "output_type": "display_data"
    }
   ],
   "source": [
    "import matplotlib.pyplot as plt\n",
    "plt.figure()\n",
    "plt.plot(train_loss)\n",
    "plt.plot(val_loss)"
   ]
  },
  {
   "cell_type": "markdown",
   "id": "dc2c1515",
   "metadata": {},
   "source": [
    "## Application"
   ]
  },
  {
   "cell_type": "code",
   "execution_count": 69,
   "id": "00b37f4f",
   "metadata": {},
   "outputs": [],
   "source": [
    "def classify_report(report, model):\n",
    "    completion = client.chat.completions.create(model=model,\n",
    "                                               messages = [\n",
    "                                                {\"role\": \"system\", \"content\": system_prompt},\n",
    "                                                {\"role\": \"user\", \"content\": report}\n",
    "                                               ])\n",
    "    return completion"
   ]
  },
  {
   "cell_type": "code",
   "execution_count": 72,
   "id": "94550400",
   "metadata": {},
   "outputs": [],
   "source": [
    "predicted_classes = []\n",
    "ground_truth_classes = []\n",
    "\n",
    "for line in test.iterrows():\n",
    "    report, specialty = line[1][\"report\"], line[1][\"medical_specialty\"]\n",
    "    ground_truth_classes.append(specialty.strip())  # in case of any spaces\n",
    "    prediction = classify_report(report, model='gpt-3.5-turbo')\n",
    "    predicted_classes.append(prediction.choices[0].message.content.strip())"
   ]
  },
  {
   "cell_type": "code",
   "execution_count": 73,
   "id": "85ecbc0b",
   "metadata": {},
   "outputs": [
    {
     "data": {
      "text/plain": [
       "0.44"
      ]
     },
     "execution_count": 73,
     "metadata": {},
     "output_type": "execute_result"
    }
   ],
   "source": [
    "import numpy as np\n",
    "(np.array(predicted_classes) == np.array(ground_truth_classes)).mean() "
   ]
  },
  {
   "cell_type": "code",
   "execution_count": 74,
   "id": "f1d49de4",
   "metadata": {},
   "outputs": [],
   "source": [
    "predicted_classes = []\n",
    "ground_truth_classes = []\n",
    "\n",
    "for line in test.iterrows():\n",
    "    report, specialty = line[1][\"report\"], line[1][\"medical_specialty\"]\n",
    "    ground_truth_classes.append(specialty.strip())  # in case of any spaces\n",
    "    prediction = classify_report(report, model='ft:gpt-3.5-turbo-0125:personal::9CEHv0Bn')\n",
    "    predicted_classes.append(prediction.choices[0].message.content.strip())"
   ]
  },
  {
   "cell_type": "code",
   "execution_count": 75,
   "id": "2e0a1f9c",
   "metadata": {},
   "outputs": [
    {
     "data": {
      "text/plain": [
       "0.56"
      ]
     },
     "execution_count": 75,
     "metadata": {},
     "output_type": "execute_result"
    }
   ],
   "source": [
    "(np.array(predicted_classes) == np.array(ground_truth_classes)).mean() "
   ]
  },
  {
   "cell_type": "markdown",
   "id": "bdb317f4",
   "metadata": {},
   "source": [
    "In conclusion, our experiment demonstrates the remarkable impact of fine-tuning with a subset of the data and just a single epoch on performance improvement. The observed 27% increase in performance underscores the efficacy of this approach in optimizing model outcomes."
   ]
  }
 ],
 "metadata": {
  "kernelspec": {
   "display_name": "Python 3 (ipykernel)",
   "language": "python",
   "name": "python3"
  },
  "language_info": {
   "codemirror_mode": {
    "name": "ipython",
    "version": 3
   },
   "file_extension": ".py",
   "mimetype": "text/x-python",
   "name": "python",
   "nbconvert_exporter": "python",
   "pygments_lexer": "ipython3",
   "version": "3.11.5"
  }
 },
 "nbformat": 4,
 "nbformat_minor": 5
}
